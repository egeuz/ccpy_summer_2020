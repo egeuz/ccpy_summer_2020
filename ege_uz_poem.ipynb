{
 "cells": [
  {
   "cell_type": "code",
   "execution_count": 5,
   "source": [
    "# A recursive poem by Ege Uz\n",
    "import time"
   ],
   "outputs": [],
   "metadata": {}
  },
  {
   "cell_type": "code",
   "execution_count": 7,
   "source": [
    "\n",
    "def the_last_year(d = 365, e = 100):\n",
    "  time.sleep(3)\n",
    "  if (d > 0):\n",
    "    progress = round(((365 - d) / 365 * 100), 2)\n",
    "    print(f\"the work is:{progress}% complete\")\n",
    "    print(check_energy(e))\n",
    "    return the_last_year(d-1, e-1)\n",
    "  else:\n",
    "    print(\"the work is finally complete\")\n",
    "    print(check_energy(e))\n",
    "    return\n",
    "  \n",
    "def check_energy(e):\n",
    "    if (e <= 100 and e > 80):\n",
    "      return \"and i will just have to get through it\"\n",
    "    elif (e <= 80 and e > 60):\n",
    "      return \"and i'm already feeling it grind me down\"\n",
    "    elif (e <= 60 and e > 40):\n",
    "      return \"but i've already forgotten how my life was before it\"\n",
    "    elif (e == 40):\n",
    "      return \"and i can't remember the last time i woke up rested because the anxiety follows me in my dreams\"\n",
    "    elif (e < 40 and e > 20):\n",
    "        return \"and i promise myself i'll be happy when i'm done\"\n",
    "    elif (e < 20):\n",
    "      return \"but i have nothing left to give it\"\n",
    "\n",
    "the_last_year()"
   ],
   "outputs": [
    {
     "output_type": "stream",
     "name": "stdout",
     "text": [
      "the work is:0.0% complete\n",
      "and i will just have to get through it\n",
      "the work is:0.273972602739726% complete\n",
      "and i will just have to get through it\n",
      "the work is:0.547945205479452% complete\n",
      "and i will just have to get through it\n",
      "the work is:0.821917808219178% complete\n",
      "and i will just have to get through it\n",
      "the work is:1.095890410958904% complete\n",
      "and i will just have to get through it\n",
      "the work is:1.36986301369863% complete\n",
      "and i will just have to get through it\n",
      "the work is:1.643835616438356% complete\n",
      "and i will just have to get through it\n",
      "the work is:1.9178082191780823% complete\n",
      "and i will just have to get through it\n",
      "the work is:2.191780821917808% complete\n",
      "and i will just have to get through it\n",
      "the work is:2.4657534246575343% complete\n",
      "and i will just have to get through it\n",
      "the work is:2.73972602739726% complete\n",
      "and i will just have to get through it\n",
      "the work is:3.0136986301369864% complete\n",
      "and i will just have to get through it\n",
      "the work is:3.287671232876712% complete\n",
      "and i will just have to get through it\n",
      "the work is:3.5616438356164384% complete\n",
      "and i will just have to get through it\n",
      "the work is:3.8356164383561646% complete\n",
      "and i will just have to get through it\n",
      "the work is:4.10958904109589% complete\n",
      "and i will just have to get through it\n",
      "the work is:4.383561643835616% complete\n",
      "and i will just have to get through it\n",
      "the work is:4.657534246575342% complete\n",
      "and i will just have to get through it\n",
      "the work is:4.931506849315069% complete\n",
      "and i will just have to get through it\n",
      "the work is:5.205479452054795% complete\n",
      "and i will just have to get through it\n",
      "the work is:5.47945205479452% complete\n",
      "and i'm already feeling it grind me down\n",
      "the work is:5.7534246575342465% complete\n",
      "and i'm already feeling it grind me down\n",
      "the work is:6.027397260273973% complete\n",
      "and i'm already feeling it grind me down\n",
      "the work is:6.301369863013699% complete\n",
      "and i'm already feeling it grind me down\n",
      "the work is:6.575342465753424% complete\n",
      "and i'm already feeling it grind me down\n",
      "the work is:6.8493150684931505% complete\n",
      "and i'm already feeling it grind me down\n",
      "the work is:7.123287671232877% complete\n",
      "and i'm already feeling it grind me down\n"
     ]
    }
   ],
   "metadata": {}
  },
  {
   "cell_type": "code",
   "execution_count": null,
   "source": [],
   "outputs": [],
   "metadata": {}
  }
 ],
 "metadata": {
  "orig_nbformat": 4,
  "language_info": {
   "name": "python",
   "version": "3.8.8",
   "mimetype": "text/x-python",
   "codemirror_mode": {
    "name": "ipython",
    "version": 3
   },
   "pygments_lexer": "ipython3",
   "nbconvert_exporter": "python",
   "file_extension": ".py"
  },
  "kernelspec": {
   "name": "python3",
   "display_name": "Python 3.8.8 64-bit ('base': conda)"
  },
  "interpreter": {
   "hash": "dca0ade3e726a953b501b15e8e990130d2b7799f14cfd9f4271676035ebe5511"
  }
 },
 "nbformat": 4,
 "nbformat_minor": 2
}