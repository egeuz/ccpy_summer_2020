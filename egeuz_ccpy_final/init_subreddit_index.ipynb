{
 "cells": [
  {
   "cell_type": "code",
   "execution_count": 1,
   "source": [
    "# reddit api\n",
    "import praw\n",
    "# data processing\n",
    "import pandas as pd\n",
    "import numpy as np\n",
    "# helper modules\n",
    "import time\n",
    "# database access\n",
    "import firebase_admin\n",
    "from firebase_admin import credentials\n",
    "from firebase_admin import db\n",
    "cred = credentials.Certificate('./service_acct_key.json')\n",
    "firebase_admin.initialize_app(cred, {\n",
    "  'databaseURL': 'https://meme-room-default-rtdb.firebaseio.com/'\n",
    "})"
   ],
   "outputs": [
    {
     "output_type": "execute_result",
     "data": {
      "text/plain": [
       "<firebase_admin.App at 0x7f99f04130a0>"
      ]
     },
     "metadata": {},
     "execution_count": 1
    }
   ],
   "metadata": {}
  },
  {
   "cell_type": "code",
   "execution_count": 2,
   "source": [
    "# initialize praw\n",
    "reddit = praw.Reddit(\n",
    "    client_id='hS4CPqNExizMF7XJ1XlMBQ',\n",
    "    client_secret='zMcrLvT31UBI6V-zl2IFC9uR3MRA-g',\n",
    "    user_agent='reddit-meme-analysis 0.1.1 by /u/inkoh',\n",
    "    username='inkoh',\n",
    "    password='Songoku777'\n",
    ")\n",
    "\n",
    "reddit.read_only = True\n"
   ],
   "outputs": [
    {
     "output_type": "stream",
     "name": "stderr",
     "text": [
      "Version 7.3.0 of praw is outdated. Version 7.4.0 was released 2 days ago.\n"
     ]
    }
   ],
   "metadata": {}
  },
  {
   "cell_type": "code",
   "execution_count": 3,
   "source": [
    "subreddit_index = pd.read_csv('subreddit-index-proto.csv')\n",
    "subreddits = subreddit_index[\"real_name\"]\n",
    "bulk_posts = pd.read_csv('scraped_posts_bulk.csv')"
   ],
   "outputs": [],
   "metadata": {}
  },
  {
   "cell_type": "code",
   "execution_count": 7,
   "source": [
    "def generate_subreddit_index(subreddits):\n",
    "    i = 0\n",
    "    l = len(subreddits)\n",
    "    index = []\n",
    "    for sub_name in subreddits:\n",
    "        time.sleep(10)\n",
    "        index.append(\n",
    "            analyze_subreddit(sub_name)\n",
    "        )\n",
    "        print(sub_name + \" analyzed successfully [\" + str(i) + \"/\" + str(l) + \"]\")\n",
    "        i += 1\n",
    "    \n",
    "    return index\n",
    "\n",
    "\n",
    "def analyze_subreddit(sub_name):\n",
    "    # request information about subreddit\n",
    "    try:\n",
    "        subdata = reddit.subreddit(sub_name)\n",
    "        sampled_posts = bulk_posts[bulk_posts[\"subreddit\"] == sub_name]\n",
    "        sub_data = {\n",
    "            \"name\": sub_name,\n",
    "            \"permalink\": \"https://reddit.com/r/\" + sub_name,\n",
    "            \"subscribers\": subdata.subscribers,\n",
    "            \"posts_analyzed\": len(sampled_posts),\n",
    "            \"upvote_data\": get_upvote_data(sampled_posts),\n",
    "            \"comment_data\": get_comment_data(sampled_posts),\n",
    "            \"content_creator_diversity_ratio\": get_ccdr(sampled_posts)\n",
    "        }\n",
    "        return sub_data\n",
    "    except:\n",
    "        print(sub_name + \": sub not found :(\")\n",
    "        return { \"error_message\": \"subreddit not found\" }\n",
    "\n",
    "\n",
    "def get_upvote_data(post_data):\n",
    "    upvote_scores = np.array(post_data[\"num_upvotes\"])\n",
    "    return {\n",
    "        \"avg_upvotes\": float(upvote_scores.mean()),\n",
    "        \"min_upvotes\": float(upvote_scores.min()),\n",
    "        \"max_upvotes\": float(upvote_scores.max()),\n",
    "        \"std\": float(upvote_scores.std())\n",
    "    }\n",
    "\n",
    "\n",
    "def get_comment_data(post_data):\n",
    "    comment_scores = np.array(post_data[\"num_comments\"])\n",
    "    return {\n",
    "        \"avg_comments\": float(comment_scores.mean()),\n",
    "        \"std\": float(comment_scores.std()),\n",
    "        \"min_comments\": float(comment_scores.min()),\n",
    "        \"max_comments\": float(comment_scores.max()),\n",
    "    }\n",
    "\n",
    "\n",
    "def get_ccdr(post_data):\n",
    "    authors = post_data[\"author\"]\n",
    "    num_posts = len(post_data)\n",
    "    num_unique_authors = len(set(authors))\n",
    "    return num_unique_authors / num_posts\n"
   ],
   "outputs": [],
   "metadata": {}
  },
  {
   "cell_type": "code",
   "execution_count": null,
   "source": [
    "processed_index = generate_subreddit_index(subreddits)"
   ],
   "outputs": [],
   "metadata": {}
  },
  {
   "cell_type": "code",
   "execution_count": 11,
   "source": [
    "for sub_data in processed_index:\n",
    "  try:\n",
    "    sub_name = sub_data['name']\n",
    "    db.reference('/subreddit_index_2/' + sub_name).set(sub_data)\n",
    "  except:\n",
    "    print('skipping this broken datapoint')"
   ],
   "outputs": [
    {
     "output_type": "stream",
     "name": "stdout",
     "text": [
      "skipping this broken datapoint\n",
      "skipping this broken datapoint\n",
      "skipping this broken datapoint\n",
      "skipping this broken datapoint\n",
      "skipping this broken datapoint\n",
      "skipping this broken datapoint\n",
      "skipping this broken datapoint\n"
     ]
    }
   ],
   "metadata": {}
  },
  {
   "cell_type": "code",
   "execution_count": 99,
   "source": [],
   "outputs": [],
   "metadata": {}
  },
  {
   "cell_type": "code",
   "execution_count": 12,
   "source": [
    "d = pd.read_json('./subreddit-index-final.json')\n",
    "d.pop('error_message')\n",
    "d = d.to_dict(orient=\"records\")\n",
    "\n",
    "for sub_data in d:\n",
    "  db.reference('/subreddit_index/' + sub_data['name']).set(sub_data)\n",
    "\n",
    "# db.reference('/subreddit_index').set(dict_index)\n",
    "\n"
   ],
   "outputs": [],
   "metadata": {}
  },
  {
   "cell_type": "code",
   "execution_count": null,
   "source": [],
   "outputs": [],
   "metadata": {}
  }
 ],
 "metadata": {
  "orig_nbformat": 4,
  "language_info": {
   "name": "python",
   "version": "3.8.8",
   "mimetype": "text/x-python",
   "codemirror_mode": {
    "name": "ipython",
    "version": 3
   },
   "pygments_lexer": "ipython3",
   "nbconvert_exporter": "python",
   "file_extension": ".py"
  },
  "kernelspec": {
   "name": "python3",
   "display_name": "Python 3.8.8 64-bit ('base': conda)"
  },
  "interpreter": {
   "hash": "dca0ade3e726a953b501b15e8e990130d2b7799f14cfd9f4271676035ebe5511"
  }
 },
 "nbformat": 4,
 "nbformat_minor": 2
}